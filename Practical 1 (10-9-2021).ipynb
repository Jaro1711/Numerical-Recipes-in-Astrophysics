{
 "cells": [
  {
   "cell_type": "code",
   "execution_count": 1,
   "metadata": {},
   "outputs": [],
   "source": [
    "import numpy as np\n",
    "import scipy.special as scs\n",
    "import matplotlib.pyplot as plt"
   ]
  },
  {
   "cell_type": "markdown",
   "metadata": {},
   "source": [
    "### 1. Numerical errors"
   ]
  },
  {
   "cell_type": "code",
   "execution_count": 2,
   "metadata": {},
   "outputs": [],
   "source": [
    "# 1\n",
    "def sinc_function(x):\n",
    "    return np.sinc(x/np.pi)\n",
    "\n",
    "def sinc_series(x, N):\n",
    "    Term = (-1)**N * x**(2*N) / scs.factorial(2*N+1)\n",
    "    return np.sum(Term)\n",
    "\n",
    "# In this case we can probably have 3 errors;\n",
    "# The machine error, which is a fractional 10^-7 for the standard 32 bit\n",
    "# The scond one might be a round-off error due to taking the sum\n",
    "# The last one might be an overflow error, because of the factorial"
   ]
  },
  {
   "cell_type": "code",
   "execution_count": 3,
   "metadata": {},
   "outputs": [
    {
     "data": {
      "image/png": "[encoded data removed]",
      "text/plain": [
       "<Figure size 432x288 with 1 Axes>"
      ]
     },
     "metadata": {
      "needs_background": "light"
     },
     "output_type": "display_data"
    },
    {
     "name": "stdout",
     "output_type": "stream",
     "text": [
      "[  0.90614477  -7.2605219   12.74781144 -10.59524412   5.29100202\n",
      "  -1.78559853  -1.63201219  -1.63172025  -1.63172455  -1.63172453\n",
      "  -1.63172453  -1.63172453  -1.63172453  -1.63172453]\n"
     ]
    }
   ],
   "source": [
    "# 2\n",
    "Terms = np.arange(1, 15, 1)\n",
    "Values = []\n",
    "for i in Terms:\n",
    "    Values.append(sinc_series(7, np.arange(0,i,1)))\n",
    "\n",
    "Value = sinc_function(7)\n",
    "\n",
    "Error = Values-Value\n",
    "\n",
    "plt.plot(Terms, Error)\n",
    "plt.ylabel(\"Error\")\n",
    "plt.xlabel(\"Amount of terms\")\n",
    "plt.show()\n",
    "\n",
    "print(Error)\n",
    "\n",
    "# As we can see from the plot and the printed values we see that the error oscilates."
   ]
  },
  {
   "cell_type": "code",
   "execution_count": 18,
   "metadata": {},
   "outputs": [
    {
     "name": "stdout",
     "output_type": "stream",
     "text": [
      "[ 5.45351267e-01 -1.21315390e-01  1.20179355e-02 -6.80476427e-04\n",
      "  2.50041485e-05 -6.55651093e-07  0.00000000e+00 -2.98023224e-08\n",
      " -2.98023224e-08 -2.98023224e-08 -2.98023224e-08 -2.98023224e-08\n",
      " -2.98023224e-08 -2.98023224e-08]\n"
     ]
    }
   ],
   "source": [
    "# 3\n",
    "\n",
    "def sinc_function2(x):\n",
    "    return np.sin(x, dtype=\"float32\")/x\n",
    "\n",
    "def sinc_series2(x, N):\n",
    "    Term = (-1)**N * x**(2*N) / scs.factorial(2*N+1)\n",
    "    return np.sum(Term, dtype='float32')\n",
    "\n",
    "\n",
    "Value2 = np.float32(2)\n",
    "sinc_2 = sinc_function2(Value2)\n",
    "\n",
    "Terms = np.arange(1, 15, 1)\n",
    "Values = []\n",
    "for i in Terms:\n",
    "    Range = np.arange(0,i,1)\n",
    "    Values.append(sinc_series2(Value2, Range))\n",
    "\n",
    "Error = Values-sinc_2\n",
    "\n",
    "# plt.plot(Terms, Error)\n",
    "# plt.ylabel(\"Error\")\n",
    "# plt.xlabel(\"Amount of terms\")\n",
    "# plt.show()\n",
    "\n",
    "print(Error)"
   ]
  },
  {
   "cell_type": "code",
   "execution_count": 19,
   "metadata": {},
   "outputs": [
    {
     "name": "stdout",
     "output_type": "stream",
     "text": [
      "[ 5.45351287e-01 -1.21315380e-01  1.20179533e-02 -6.80459445e-04\n",
      "  2.50079275e-05 -6.45431440e-07  1.23469960e-08 -1.82116988e-10\n",
      "  2.13468132e-12 -2.03170814e-14  2.22044605e-16  5.55111512e-17\n",
      "  5.55111512e-17  5.55111512e-17]\n"
     ]
    }
   ],
   "source": [
    "Value2 = np.float64(2)\n",
    "sinc_2 = sinc_function(Value2)\n",
    "\n",
    "Terms = np.arange(1, 15, 1)\n",
    "Values = []\n",
    "for i in Terms:\n",
    "    Range = np.arange(0,i,1)\n",
    "    Range2 = Range.astype('float64')\n",
    "    Values.append(sinc_series(Value2, Range2))\n",
    "\n",
    "Error = Values-sinc_2\n",
    "\n",
    "# plt.plot(Terms, Error)\n",
    "# plt.ylabel(\"Error\")\n",
    "# plt.xlabel(\"Amount of terms\")\n",
    "# plt.show()\n",
    "\n",
    "print(Error)"
   ]
  },
  {
   "cell_type": "code",
   "execution_count": 20,
   "metadata": {},
   "outputs": [],
   "source": [
    "# From the 2 cells above we see that float32 saturates for 8 terms\n",
    "# We also see that float64 saturates for 12 terms\n",
    "# Minimal error is straightforward from the above cells."
   ]
  },
  {
   "cell_type": "markdown",
   "metadata": {},
   "source": [
    "### 2. A short timing test"
   ]
  },
  {
   "cell_type": "code",
   "execution_count": 32,
   "metadata": {},
   "outputs": [],
   "source": [
    "# 1\n",
    "\n",
    "G = 1.90809E5 # R*M* (km/s)^2\n",
    "c = 1.998E5 # km/s\n",
    "mean = 10**6 #M*\n",
    "sigma = 10**5 #M*\n",
    "\n",
    "Gauss = np.random.normal(10000, mean, sigma)"
   ]
  },
  {
   "cell_type": "code",
   "execution_count": 33,
   "metadata": {},
   "outputs": [
    {
     "name": "stdout",
     "output_type": "stream",
     "text": [
      "844 µs ± 105 µs per loop (mean ± std. dev. of 7 runs, 1000 loops each)\n"
     ]
    }
   ],
   "source": [
    "%%timeit\n",
    "\n",
    "Rs = 2*G*Gauss/(c**2)"
   ]
  },
  {
   "cell_type": "code",
   "execution_count": 34,
   "metadata": {},
   "outputs": [],
   "source": [
    "c_inv = 1/c\n",
    "c_inv2 = c_inv * c_inv"
   ]
  },
  {
   "cell_type": "code",
   "execution_count": 35,
   "metadata": {},
   "outputs": [
    {
     "name": "stdout",
     "output_type": "stream",
     "text": [
      "673 µs ± 89 µs per loop (mean ± std. dev. of 7 runs, 1000 loops each)\n"
     ]
    }
   ],
   "source": [
    "%%timeit\n",
    "\n",
    "Rs = 2*G*Gauss * c_inv2"
   ]
  },
  {
   "cell_type": "markdown",
   "metadata": {},
   "source": [
    "### 3. Github Basics"
   ]
  },
  {
   "cell_type": "code",
   "execution_count": null,
   "metadata": {},
   "outputs": [],
   "source": [
    "# Seems to be only working on git"
   ]
  }
 ],
 "metadata": {
  "kernelspec": {
   "display_name": "Python 3",
   "language": "python",
   "name": "python3"
  },
  "language_info": {
   "codemirror_mode": {
    "name": "ipython",
    "version": 3
   },
   "file_extension": ".py",
   "mimetype": "text/x-python",
   "name": "python",
   "nbconvert_exporter": "python",
   "pygments_lexer": "ipython3",
   "version": "3.8.3"
  }
 },
 "nbformat": 4,
 "nbformat_minor": 4
}
